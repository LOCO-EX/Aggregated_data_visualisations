{
 "cells": [
  {
   "cell_type": "code",
   "execution_count": 1,
   "metadata": {
    "colab": {
     "base_uri": "https://localhost:8080/"
    },
    "executionInfo": {
     "elapsed": 22678,
     "status": "ok",
     "timestamp": 1739255862882,
     "user": {
      "displayName": "Agata Węglerska",
      "userId": "16600954105605878853"
     },
     "user_tz": -60
    },
    "id": "HRg_te22V2qU",
    "outputId": "592b2aed-808b-4e6d-8864-8253aa76d89d"
   },
   "outputs": [
    {
     "name": "stdout",
     "output_type": "stream",
     "text": [
      "Mounted at /content/gdrive/\n"
     ]
    }
   ],
   "source": [
    "#---copy this notebook in your Google Drive---\n",
    "#\n",
    "import os\n",
    "#create a temporal mount point (just for running this script)\n",
    "mount_point='/content/gdrive/'\n",
    "from google.colab import drive\n",
    "drive.mount(mount_point)"
   ]
  },
  {
   "cell_type": "code",
   "execution_count": 2,
   "metadata": {
    "colab": {
     "base_uri": "https://localhost:8080/"
    },
    "executionInfo": {
     "elapsed": 46,
     "status": "ok",
     "timestamp": 1739255869246,
     "user": {
      "displayName": "Agata Węglerska",
      "userId": "16600954105605878853"
     },
     "user_tz": -60
    },
    "id": "ErmcPpy4DYMT",
    "outputId": "e421a549-952b-4d36-eb29-80142cd99805"
   },
   "outputs": [
    {
     "data": {
      "text/plain": [
       "['MyDrive',\n",
       " '.shortcut-targets-by-id',\n",
       " '.file-revisions-by-id',\n",
       " '.Trash-0',\n",
       " '.Encrypted']"
      ]
     },
     "execution_count": 2,
     "metadata": {},
     "output_type": "execute_result"
    }
   ],
   "source": [
    "os.listdir(mount_point)  #check the name of My google Drive:"
   ]
  },
  {
   "cell_type": "code",
   "execution_count": 3,
   "metadata": {
    "executionInfo": {
     "elapsed": 10,
     "status": "ok",
     "timestamp": 1739255875424,
     "user": {
      "displayName": "Agata Węglerska",
      "userId": "16600954105605878853"
     },
     "user_tz": -60
    },
    "id": "Yn3AZFY5pnnq"
   },
   "outputs": [],
   "source": [
    "#this is the path where we will clone the repo (I have already created the dir \"colab_repos\", but you can select your own path)\n",
    "gdrive_path=\"MyDrive/colab_repos/\""
   ]
  },
  {
   "cell_type": "code",
   "execution_count": 4,
   "metadata": {
    "executionInfo": {
     "elapsed": 6,
     "status": "ok",
     "timestamp": 1739255897496,
     "user": {
      "displayName": "Agata Węglerska",
      "userId": "16600954105605878853"
     },
     "user_tz": -60
    },
    "id": "3KV_kBr1piMl"
   },
   "outputs": [],
   "source": [
    "#cd into the above path\n",
    "os.chdir(f\"{mount_point}{gdrive_path}\") #= cd /content/gdrive/MyDrive/colab_repos/"
   ]
  },
  {
   "cell_type": "code",
   "execution_count": 5,
   "metadata": {
    "colab": {
     "base_uri": "https://localhost:8080/"
    },
    "executionInfo": {
     "elapsed": 107,
     "status": "ok",
     "timestamp": 1739255904518,
     "user": {
      "displayName": "Agata Węglerska",
      "userId": "16600954105605878853"
     },
     "user_tz": -60
    },
    "id": "GndTOd2-pyJ1",
    "outputId": "ecc5f32e-debb-4902-e97d-d9f1700c43d8"
   },
   "outputs": [
    {
     "name": "stdout",
     "output_type": "stream",
     "text": [
      "/content/gdrive/MyDrive/colab_repos\n"
     ]
    }
   ],
   "source": [
    "#check above\n",
    "!pwd"
   ]
  },
  {
   "cell_type": "code",
   "execution_count": 6,
   "metadata": {
    "colab": {
     "base_uri": "https://localhost:8080/"
    },
    "executionInfo": {
     "elapsed": 1412,
     "status": "ok",
     "timestamp": 1739255946103,
     "user": {
      "displayName": "Agata Węglerska",
      "userId": "16600954105605878853"
     },
     "user_tz": -60
    },
    "id": "ZrNc1ee0YQ_G",
    "outputId": "492b20c0-2952-4d6d-d39a-d1b2459300eb"
   },
   "outputs": [
    {
     "name": "stdout",
     "output_type": "stream",
     "text": [
      "Cloning into 'Aggregated_data_visualisations'...\n",
      "remote: Enumerating objects: 73, done.\u001b[K\n",
      "remote: Counting objects: 100% (73/73), done.\u001b[K\n",
      "remote: Compressing objects: 100% (54/54), done.\u001b[K\n",
      "remote: Total 73 (delta 33), reused 43 (delta 19), pack-reused 0 (from 0)\u001b[K\n",
      "Receiving objects: 100% (73/73), 764.11 KiB | 7.49 MiB/s, done.\n",
      "Resolving deltas: 100% (33/33), done.\n"
     ]
    }
   ],
   "source": [
    "#clone the repo\n",
    "!git clone https://github.com/LOCO-EX/Aggregated_data_visualisations.git"
   ]
  },
  {
   "cell_type": "code",
   "execution_count": 7,
   "metadata": {
    "colab": {
     "base_uri": "https://localhost:8080/"
    },
    "executionInfo": {
     "elapsed": 107,
     "status": "ok",
     "timestamp": 1739255949217,
     "user": {
      "displayName": "Agata Węglerska",
      "userId": "16600954105605878853"
     },
     "user_tz": -60
    },
    "id": "G57OospYYcBv",
    "outputId": "0420a585-2c68-404a-9dfa-61271802ce0a"
   },
   "outputs": [
    {
     "name": "stdout",
     "output_type": "stream",
     "text": [
      "Aggregated_data_visualisations\n",
      "paper_Atmospherically_Driven_Seasonal_Interannual_LTTS_MultipleInlet\n"
     ]
    }
   ],
   "source": [
    "#check the repo\n",
    "!ls"
   ]
  }
 ],
 "metadata": {
  "colab": {
   "provenance": [],
   "toc_visible": true
  },
  "kernelspec": {
   "display_name": "Python 3 (ipykernel)",
   "language": "python",
   "name": "python3"
  },
  "language_info": {
   "codemirror_mode": {
    "name": "ipython",
    "version": 3
   },
   "file_extension": ".py",
   "mimetype": "text/x-python",
   "name": "python",
   "nbconvert_exporter": "python",
   "pygments_lexer": "ipython3",
   "version": "3.8.12"
  }
 },
 "nbformat": 4,
 "nbformat_minor": 0
}
