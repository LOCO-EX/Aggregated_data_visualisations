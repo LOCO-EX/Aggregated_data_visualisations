{
  "cells": [
    {
      "cell_type": "markdown",
      "metadata": {
        "id": "bxcFuA9HzSJt"
      },
      "source": [
        "### Configs"
      ]
    },
    {
      "cell_type": "code",
      "execution_count": 1,
      "metadata": {
        "id": "npA09vLizfel"
      },
      "outputs": [],
      "source": [
        "google_colab=False #True: if you want to run the script in google colab"
      ]
    },
    {
      "cell_type": "code",
      "execution_count": 2,
      "metadata": {
        "colab": {
          "base_uri": "https://localhost:8080/"
        },
        "id": "RIbFsIqszks0",
        "outputId": "a288fc1d-0d4b-4ac6-f249-4f4f7487a5da"
      },
      "outputs": [],
      "source": [
        "if google_colab:\n",
        "    !pip install numpy\n",
        "    !pip install netcdf4\n",
        "    !pip install xarray\n",
        "    !pip install plotly"
      ]
    },
    {
      "cell_type": "markdown",
      "metadata": {
        "id": "5cpsELiPyzo-"
      },
      "source": [
        "### Imports"
      ]
    },
    {
      "cell_type": "code",
      "execution_count": 3,
      "metadata": {
        "colab": {
          "base_uri": "https://localhost:8080/"
        },
        "id": "Fjz6RRTAyzpB",
        "outputId": "30852b4c-72c4-44a9-ed2e-6ebed18e7e04"
      },
      "outputs": [],
      "source": [
        "import sys\n",
        "\n",
        "if google_colab:\n",
        "    #google colab path:\n",
        "    mount_point='/content/gdrive/' #dir name for a temporal mount point (just for running this script)\n",
        "    gdrive_path=\"MyDrive/colab_repos\" #the path in \"my Google Drive\" where you have cloned the repo\n",
        "    main_dir=mount_point+gdrive_path\n",
        "    #mount:\n",
        "    from google.colab import drive\n",
        "    drive.mount(mount_point)\n",
        "    sys.path.append(f'{main_dir}/Aggregated_data_visualisations/')\n",
        "else:\n",
        "    sys.path.append('../')\n",
        "\n",
        "\n",
        "from visualisation_scripts import (display_start_end_dates,\n",
        "    display_variable,\n",
        "    display_expousure,\n",
        "    read_data_from_opendap_test\n",
        ")\n",
        "from datetime import datetime"
      ]
    },
    {
      "cell_type": "markdown",
      "metadata": {
        "id": "nFGRtQ_4yzpD"
      },
      "source": [
        "### Load data using OPeNDAP"
      ]
    },
    {
      "cell_type": "code",
      "execution_count": 7,
      "metadata": {
        "colab": {
          "base_uri": "https://localhost:8080/"
        },
        "id": "bDdTbMMqyzpE",
        "outputId": "b427d3c6-394b-4cb0-f24d-dbc750f84920"
      },
      "outputs": [
        {
          "name": "stdout",
          "output_type": "stream",
          "text": [
            "File from https://opendap.4tu.nl/thredds/catalog/data2/test/spatial/catalog.html opened successfully.\n",
            "<xarray.Dataset> Size: 90MB\n",
            "Dimensions:  (xc: 820, yc: 381, time: 12)\n",
            "Coordinates:\n",
            "  * xc       (xc) float64 7kB 0.0 200.0 400.0 ... 1.634e+05 1.636e+05 1.638e+05\n",
            "  * yc       (yc) float64 3kB 1.98e+04 2e+04 2.02e+04 ... 9.56e+04 9.58e+04\n",
            "  * time     (time) datetime64[ns] 96B 2000-01-08T13:00:00 ... 2000-06-21T13:...\n",
            "Data variables:\n",
            "    exp_pct  (time, yc, xc) float64 30MB ...\n",
            "    T_sd     (time, yc, xc) float32 15MB ...\n",
            "    S_sd     (time, yc, xc) float32 15MB ...\n",
            "    T_avg    (time, yc, xc) float32 15MB ...\n",
            "    S_avg    (time, yc, xc) float32 15MB ...\n",
            "Attributes:\n",
            "    _NCProperties:  version=2,netcdf=4.9.2,hdf5=1.14.4\n",
            "    title:          Layers of 15-day aggregations of hydrodynamic quantities ...\n",
            "    conventions:    CF-1.12\n",
            "    institution:    www.tue.nl; www.nioz.nl;www.io-warnemuende.de\n",
            "    email:          m.duran.matute@tue.nl; theo.gerkema@nioz.nl; ulf.graewe@i...\n",
            "    source:         GETM (www.getm.eu)\n",
            "    comment:        This data is provided as part of the NWO/ENW project: LOC...\n",
            "    history:        Created 2025-01-21T12:40+00:00 using aggregates_15days.py\n"
          ]
        }
      ],
      "source": [
        "read_data_from_opendap_test()"
      ]
    },
    {
      "cell_type": "markdown",
      "metadata": {
        "id": "Hl4Avc93yzpF"
      },
      "source": [
        "### Choose start and end dates"
      ]
    },
    {
      "cell_type": "code",
      "execution_count": 4,
      "metadata": {
        "colab": {
          "base_uri": "https://localhost:8080/"
        },
        "id": "6VeybBtwyzpG",
        "outputId": "65243e8b-d5ba-42e7-90b5-58b62e67e285"
      },
      "outputs": [
        {
          "name": "stdout",
          "output_type": "stream",
          "text": [
            "The time slots of the simulation are from 2000-01-01 01:00:00 (including) to 2000-06-29 00:00:00 (including).\n",
            "Please choose a time period within these dates.\n"
          ]
        }
      ],
      "source": [
        "# Function to display the time for which the data is available\n",
        "display_start_end_dates()"
      ]
    },
    {
      "cell_type": "code",
      "execution_count": 7,
      "metadata": {
        "id": "4yR_s9-uyzpG"
      },
      "outputs": [],
      "source": [
        "# Choose the start and end date\n",
        "start_date = datetime(2000,1,1)\n",
        "end_date = datetime(2000,3,15)"
      ]
    },
    {
      "cell_type": "markdown",
      "metadata": {
        "id": "JRgQDkA4yzpH"
      },
      "source": [
        "### Display the Salinity and the Temperature"
      ]
    },
    {
      "cell_type": "code",
      "execution_count": null,
      "metadata": {
        "colab": {
          "base_uri": "https://localhost:8080/",
          "height": 1000
        },
        "id": "oypDWB5qyzpI",
        "outputId": "39d7b234-248b-4029-c6e9-f45cac09609a"
      },
      "outputs": [],
      "source": [
        "# Function to display the Salinity and Temperature variables for the chosen time period\n",
        "print(\"Salinity:\")\n",
        "display_variable(start_date, end_date, 'S')\n",
        "print(\"Temperature:\")\n",
        "display_variable(start_date, end_date, 'T')"
      ]
    },
    {
      "cell_type": "markdown",
      "metadata": {
        "id": "Y397hwGyyzpI"
      },
      "source": [
        "### Display the Expousure"
      ]
    },
    {
      "cell_type": "code",
      "execution_count": null,
      "metadata": {
        "colab": {
          "base_uri": "https://localhost:8080/",
          "height": 517
        },
        "id": "2Rp556lNyzpJ",
        "outputId": "9387ab1f-309d-45c1-c741-9d901200e8aa"
      },
      "outputs": [],
      "source": [
        "# Function to display the expousure variable for the chosen time period\n",
        "display_expousure(start_date, end_date)"
      ]
    }
  ],
  "metadata": {
    "colab": {
      "provenance": []
    },
    "kernelspec": {
      "display_name": "env_dws",
      "language": "python",
      "name": "python3"
    },
    "language_info": {
      "codemirror_mode": {
        "name": "ipython",
        "version": 3
      },
      "file_extension": ".py",
      "mimetype": "text/x-python",
      "name": "python",
      "nbconvert_exporter": "python",
      "pygments_lexer": "ipython3",
      "version": "3.12.8"
    }
  },
  "nbformat": 4,
  "nbformat_minor": 0
}
