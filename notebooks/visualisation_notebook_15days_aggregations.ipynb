{
 "cells": [
  {
   "cell_type": "markdown",
   "metadata": {},
   "source": [
    "### Imports"
   ]
  },
  {
   "cell_type": "code",
   "execution_count": null,
   "metadata": {},
   "outputs": [],
   "source": [
    "import sys\n",
    "sys.path.append('../')\n",
    "from visualisation_scripts import (display_start_end_dates,\n",
    "    display_variable,\n",
    "    display_expousure,\n",
    "    read_data_from_opendap_test\n",
    ")\n",
    "from datetime import datetime"
   ]
  },
  {
   "cell_type": "markdown",
   "metadata": {},
   "source": [
    "### Load data using OPeNDAP"
   ]
  },
  {
   "cell_type": "code",
   "execution_count": 2,
   "metadata": {},
   "outputs": [
    {
     "name": "stdout",
     "output_type": "stream",
     "text": [
      "File from File from https://opendap.4tu.nl/thredds/catalog/data2/test/spatial/catalog.html opened successfully. opened successfully.\n",
      "<xarray.Dataset> Size: 90MB\n",
      "Dimensions:  (xc: 820, yc: 381, time: 12)\n",
      "Coordinates:\n",
      "  * xc       (xc) float64 7kB 0.0 200.0 400.0 ... 1.634e+05 1.636e+05 1.638e+05\n",
      "  * yc       (yc) float64 3kB 1.98e+04 2e+04 2.02e+04 ... 9.56e+04 9.58e+04\n",
      "  * time     (time) datetime64[ns] 96B 2000-01-08T13:00:00 ... 2000-06-21T13:...\n",
      "Data variables:\n",
      "    exp_pct  (time, yc, xc) float64 30MB ...\n",
      "    T_sd     (time, yc, xc) float32 15MB ...\n",
      "    S_sd     (time, yc, xc) float32 15MB ...\n",
      "    T_avg    (time, yc, xc) float32 15MB ...\n",
      "    S_avg    (time, yc, xc) float32 15MB ...\n",
      "Attributes:\n",
      "    _NCProperties:  version=2,netcdf=4.9.2,hdf5=1.14.4\n",
      "    title:          Layers of 15-day aggregations of hydrodynamic quantities ...\n",
      "    conventions:    CF-1.12\n",
      "    institution:    www.tue.nl; www.nioz.nl;www.io-warnemuende.de\n",
      "    email:          m.duran.matute@tue.nl; theo.gerkema@nioz.nl; ulf.graewe@i...\n",
      "    source:         GETM (www.getm.eu)\n",
      "    comment:        This data is provided as part of the NWO/ENW project: LOC...\n",
      "    history:        Created 2025-01-21T12:40+00:00 using aggregates_15days.py\n"
     ]
    }
   ],
   "source": [
    "read_data_from_opendap_test()"
   ]
  },
  {
   "cell_type": "markdown",
   "metadata": {},
   "source": [
    "### Choose start and end dates "
   ]
  },
  {
   "cell_type": "code",
   "execution_count": 3,
   "metadata": {},
   "outputs": [
    {
     "name": "stdout",
     "output_type": "stream",
     "text": [
      "The time slots of the simulation are from 2000-01-01 01:00:00 (including) to 2000-06-29 00:00:00 (including).\n",
      "Please choose a time period within these dates.\n"
     ]
    }
   ],
   "source": [
    "# Function to display the time for which the data is available\n",
    "display_start_end_dates()"
   ]
  },
  {
   "cell_type": "code",
   "execution_count": 4,
   "metadata": {},
   "outputs": [],
   "source": [
    "# Choose the start and end date\n",
    "start_date = datetime(2000,1,1)\n",
    "end_date = datetime(2000,3,15)"
   ]
  },
  {
   "cell_type": "markdown",
   "metadata": {},
   "source": [
    "### Display the Salinity and the Temperature"
   ]
  },
  {
   "cell_type": "code",
   "execution_count": null,
   "metadata": {},
   "outputs": [],
   "source": [
    "# Function to display the Salinity and Temperature variables for the chosen time period\n",
    "display_variable(start_date, end_date, 'S')\n",
    "display_variable(start_date, end_date, 'T')"
   ]
  },
  {
   "cell_type": "markdown",
   "metadata": {},
   "source": [
    "### Display the Expousure"
   ]
  },
  {
   "cell_type": "code",
   "execution_count": null,
   "metadata": {},
   "outputs": [],
   "source": [
    "# Function to display the expousure variable for the chosen time period\n",
    "display_expousure(start_date, end_date)"
   ]
  }
 ],
 "metadata": {
  "kernelspec": {
   "display_name": "env_dws",
   "language": "python",
   "name": "python3"
  },
  "language_info": {
   "codemirror_mode": {
    "name": "ipython",
    "version": 3
   },
   "file_extension": ".py",
   "mimetype": "text/x-python",
   "name": "python",
   "nbconvert_exporter": "python",
   "pygments_lexer": "ipython3",
   "version": "3.12.8"
  }
 },
 "nbformat": 4,
 "nbformat_minor": 2
}
