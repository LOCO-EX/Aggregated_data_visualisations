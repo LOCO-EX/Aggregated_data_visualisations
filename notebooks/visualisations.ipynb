{
  "cells": [
    {
      "cell_type": "markdown",
      "metadata": {
        "id": "bxcFuA9HzSJt"
      },
      "source": [
        "#### Configs and settings"
      ]
    },
    {
      "cell_type": "code",
      "execution_count": null,
      "metadata": {
        "id": "npA09vLizfel"
      },
      "outputs": [],
      "source": [
        "google_colab = False  # True: if you want to run the script in google colab\n",
        "\n",
        "path_root = \"\"  # Change when commiting to prevent leaks"
      ]
    },
    {
      "cell_type": "code",
      "execution_count": 2,
      "metadata": {
        "colab": {
          "base_uri": "https://localhost:8080/"
        },
        "id": "RIbFsIqszks0",
        "outputId": "a288fc1d-0d4b-4ac6-f249-4f4f7487a5da"
      },
      "outputs": [],
      "source": [
        "# Install the required packages\n",
        "if google_colab:\n",
        "    !pip install numpy\n",
        "    !pip install netcdf4\n",
        "    !pip install xarray\n",
        "    !pip install plotly\n",
        "    !pip install plotly-resampler"
      ]
    },
    {
      "cell_type": "markdown",
      "metadata": {
        "id": "5cpsELiPyzo-"
      },
      "source": [
        "#### Imports"
      ]
    },
    {
      "cell_type": "code",
      "execution_count": null,
      "metadata": {
        "colab": {
          "base_uri": "https://localhost:8080/"
        },
        "id": "Fjz6RRTAyzpB",
        "outputId": "30852b4c-72c4-44a9-ed2e-6ebed18e7e04"
      },
      "outputs": [],
      "source": [
        "import sys\n",
        "from datetime import datetime\n",
        "\n",
        "if google_colab:\n",
        "    # google colab path:\n",
        "    mount_point = \"/content/gdrive/\"  # dir name for a temporal mount point (just for running this script)\n",
        "    gdrive_path = \"MyDrive/colab_repos\"  # the path in \"my Google Drive\" where you have cloned the repo\n",
        "    main_dir = mount_point + gdrive_path\n",
        "    # mount:\n",
        "    from google.colab import drive\n",
        "\n",
        "    drive.mount(mount_point)\n",
        "    sys.path.append(f\"{main_dir}/Aggregated_data_visualisations/\")\n",
        "else:\n",
        "    sys.path.append(\"../\")\n",
        "\n",
        "\n",
        "from visualisation_scripts import (\n",
        "    display_variable,\n",
        "    display_exposure,\n",
        "    display_rt,\n",
        "    plot_salinity,\n",
        "    plot_temperature,\n",
        "    plot_volume,\n",
        "    plot_rivers_volume_flux,\n",
        "    plot_transects_salinity_flux,\n",
        "    plot_transects_volume_flux,\n",
        ")"
      ]
    },
    {
      "cell_type": "markdown",
      "metadata": {},
      "source": [
        "## 15-day aggregations"
      ]
    },
    {
      "cell_type": "markdown",
      "metadata": {
        "id": "Hl4Avc93yzpF"
      },
      "source": [
        "#### Choose start and end dates\n",
        "The data for salinity, temperature and exposure is from 01.01.1976 and for residence time from 01.01.1980 and for each variable the data has no gaps from start till the end.\n",
        "\n",
        "Not correct time periods will display an error."
      ]
    },
    {
      "cell_type": "code",
      "execution_count": 4,
      "metadata": {
        "id": "4yR_s9-uyzpG"
      },
      "outputs": [],
      "source": [
        "# Date format is (year, month, day) for example (2000, 1, 1)\n",
        "start_date = datetime(\n",
        "    1980, 1, 1\n",
        ")  # Displayed timeslots starts from this date or later, and new timeslot starts at 01:00:00\n",
        "end_date = datetime(\n",
        "    1980, 4, 1\n",
        ")  # Displayed timeslots ends at this date or earlier, and last timeslot ends at 00:00:00"
      ]
    },
    {
      "cell_type": "markdown",
      "metadata": {
        "id": "JRgQDkA4yzpH"
      },
      "source": [
        "#### Display the salinity"
      ]
    },
    {
      "cell_type": "code",
      "execution_count": null,
      "metadata": {
        "colab": {
          "base_uri": "https://localhost:8080/",
          "height": 1000
        },
        "id": "oypDWB5qyzpI",
        "outputId": "39d7b234-248b-4029-c6e9-f45cac09609a"
      },
      "outputs": [],
      "source": [
        "display_variable(start_date, end_date, \"S\",path_root)"
      ]
    },
    {
      "cell_type": "markdown",
      "metadata": {},
      "source": [
        "#### Display the temperature"
      ]
    },
    {
      "cell_type": "code",
      "execution_count": null,
      "metadata": {},
      "outputs": [],
      "source": [
        "display_variable(start_date, end_date, \"T\",path_root)"
      ]
    },
    {
      "cell_type": "markdown",
      "metadata": {},
      "source": [
        "#### Display the residence time"
      ]
    },
    {
      "cell_type": "code",
      "execution_count": null,
      "metadata": {},
      "outputs": [],
      "source": [
        "display_rt(start_date, end_date,path_root)"
      ]
    },
    {
      "cell_type": "markdown",
      "metadata": {
        "id": "Y397hwGyyzpI"
      },
      "source": [
        "#### Display the exposure"
      ]
    },
    {
      "cell_type": "code",
      "execution_count": null,
      "metadata": {
        "colab": {
          "base_uri": "https://localhost:8080/",
          "height": 517
        },
        "id": "2Rp556lNyzpJ",
        "outputId": "9387ab1f-309d-45c1-c741-9d901200e8aa"
      },
      "outputs": [],
      "source": [
        "display_exposure(start_date, end_date,path_root)"
      ]
    },
    {
      "cell_type": "markdown",
      "metadata": {},
      "source": [
        "## Spatial aggregations"
      ]
    },
    {
      "cell_type": "markdown",
      "metadata": {},
      "source": [
        "#### Plot the volume"
      ]
    },
    {
      "cell_type": "code",
      "execution_count": null,
      "metadata": {},
      "outputs": [],
      "source": [
        "plot_volume(path_root)"
      ]
    },
    {
      "cell_type": "markdown",
      "metadata": {},
      "source": [
        "#### Plot the temperature"
      ]
    },
    {
      "cell_type": "code",
      "execution_count": null,
      "metadata": {},
      "outputs": [],
      "source": [
        "plot_temperature(path_root)"
      ]
    },
    {
      "cell_type": "markdown",
      "metadata": {},
      "source": [
        "#### Plot the salinity"
      ]
    },
    {
      "cell_type": "code",
      "execution_count": null,
      "metadata": {},
      "outputs": [],
      "source": [
        "plot_salinity(path_root)"
      ]
    },
    {
      "cell_type": "markdown",
      "metadata": {},
      "source": [
        "## Rivers"
      ]
    },
    {
      "cell_type": "markdown",
      "metadata": {},
      "source": [
        "#### Plot the volume flux"
      ]
    },
    {
      "cell_type": "code",
      "execution_count": null,
      "metadata": {},
      "outputs": [],
      "source": [
        "plot_rivers_volume_flux(path_root)"
      ]
    },
    {
      "cell_type": "markdown",
      "metadata": {},
      "source": [
        "## Transects"
      ]
    },
    {
      "cell_type": "markdown",
      "metadata": {},
      "source": [
        "#### Plot the volume flux"
      ]
    },
    {
      "cell_type": "code",
      "execution_count": null,
      "metadata": {},
      "outputs": [],
      "source": [
        "plot_transects_volume_flux(path_root)"
      ]
    },
    {
      "cell_type": "markdown",
      "metadata": {},
      "source": [
        "#### Plot the salinity flux"
      ]
    },
    {
      "cell_type": "code",
      "execution_count": null,
      "metadata": {},
      "outputs": [],
      "source": [
        "plot_transects_salinity_flux(path_root)"
      ]
    }
  ],
  "metadata": {
    "colab": {
      "provenance": []
    },
    "kernelspec": {
      "display_name": "env_dws",
      "language": "python",
      "name": "python3"
    },
    "language_info": {
      "codemirror_mode": {
        "name": "ipython",
        "version": 3
      },
      "file_extension": ".py",
      "mimetype": "text/x-python",
      "name": "python",
      "nbconvert_exporter": "python",
      "pygments_lexer": "ipython3",
      "version": "3.12.8"
    }
  },
  "nbformat": 4,
  "nbformat_minor": 0
}
