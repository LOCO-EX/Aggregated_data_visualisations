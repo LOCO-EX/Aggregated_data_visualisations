{
  "cells": [
    {
      "cell_type": "markdown",
      "metadata": {},
      "source": [
        "### TEST for reading data by using OPeNDAP\n",
        "Test for binder and google colab environments."
      ]
    },
    {
      "cell_type": "markdown",
      "metadata": {
        "id": "bxcFuA9HzSJt"
      },
      "source": [
        "#### Configs and settings"
      ]
    },
    {
      "cell_type": "code",
      "execution_count": 1,
      "metadata": {
        "id": "npA09vLizfel"
      },
      "outputs": [],
      "source": [
        "google_colab = False  # True: if you want to run the script in google colab"
      ]
    },
    {
      "cell_type": "code",
      "execution_count": 2,
      "metadata": {
        "colab": {
          "base_uri": "https://localhost:8080/"
        },
        "id": "RIbFsIqszks0",
        "outputId": "a288fc1d-0d4b-4ac6-f249-4f4f7487a5da"
      },
      "outputs": [],
      "source": [
        "# Install the required packages\n",
        "if google_colab:\n",
        "    !pip install numpy\n",
        "    !pip install netcdf4\n",
        "    !pip install xarray\n",
        "    !pip install plotly\n",
        "    !pip install plotly-resampler"
      ]
    },
    {
      "cell_type": "markdown",
      "metadata": {
        "id": "5cpsELiPyzo-"
      },
      "source": [
        "#### Imports"
      ]
    },
    {
      "cell_type": "code",
      "execution_count": 3,
      "metadata": {
        "colab": {
          "base_uri": "https://localhost:8080/"
        },
        "id": "Fjz6RRTAyzpB",
        "outputId": "30852b4c-72c4-44a9-ed2e-6ebed18e7e04"
      },
      "outputs": [],
      "source": [
        "import sys\n",
        "from datetime import datetime\n",
        "\n",
        "if google_colab:\n",
        "    # google colab path:\n",
        "    mount_point = \"/content/gdrive/\"  # dir name for a temporal mount point (just for running this script)\n",
        "    gdrive_path = \"MyDrive/colab_repos\"  # the path in \"my Google Drive\" where you have cloned the repo\n",
        "    main_dir = mount_point + gdrive_path\n",
        "    # mount:\n",
        "    from google.colab import drive\n",
        "\n",
        "    drive.mount(mount_point)\n",
        "    sys.path.append(f\"{main_dir}/Aggregated_data_visualisations/\")\n",
        "else:\n",
        "    sys.path.append(\"../\")\n",
        "\n",
        "\n",
        "from visualisation_scripts import (\n",
        "    display_start_end_dates_test,\n",
        "    display_variable_test,\n",
        "    display_exposure_test,\n",
        "    read_data_from_opendap_test,\n",
        ")"
      ]
    },
    {
      "cell_type": "markdown",
      "metadata": {
        "id": "nFGRtQ_4yzpD"
      },
      "source": [
        "#### Read data using OPeNDAP"
      ]
    },
    {
      "cell_type": "code",
      "execution_count": null,
      "metadata": {
        "colab": {
          "base_uri": "https://localhost:8080/"
        },
        "id": "bDdTbMMqyzpE",
        "outputId": "b427d3c6-394b-4cb0-f24d-dbc750f84920"
      },
      "outputs": [],
      "source": [
        "read_data_from_opendap_test()"
      ]
    },
    {
      "cell_type": "markdown",
      "metadata": {},
      "source": [
        "## 15-day aggregations"
      ]
    },
    {
      "cell_type": "markdown",
      "metadata": {
        "id": "Hl4Avc93yzpF"
      },
      "source": [
        "#### Choose start and end dates"
      ]
    },
    {
      "cell_type": "code",
      "execution_count": null,
      "metadata": {
        "colab": {
          "base_uri": "https://localhost:8080/"
        },
        "id": "6VeybBtwyzpG",
        "outputId": "65243e8b-d5ba-42e7-90b5-58b62e67e285"
      },
      "outputs": [],
      "source": [
        "# Function displays the time period for which the data is available\n",
        "display_start_end_dates_test()"
      ]
    },
    {
      "cell_type": "code",
      "execution_count": 6,
      "metadata": {
        "id": "4yR_s9-uyzpG"
      },
      "outputs": [],
      "source": [
        "# Date format is (year, month, day) for example (2000, 1, 1)\n",
        "start_date = datetime(\n",
        "    2000, 1, 1\n",
        ")  # Displayed timeslots starts from this date or later, and new timeslot starts at 01:00:00\n",
        "end_date = datetime(\n",
        "    2000, 2, 1\n",
        ")  # Displayed timeslots ends at this date or earlier, and last timeslot ends at 00:00:00"
      ]
    },
    {
      "cell_type": "markdown",
      "metadata": {
        "id": "JRgQDkA4yzpH"
      },
      "source": [
        "#### Display the salinity and the temperature"
      ]
    },
    {
      "cell_type": "code",
      "execution_count": null,
      "metadata": {
        "colab": {
          "base_uri": "https://localhost:8080/",
          "height": 1000
        },
        "id": "oypDWB5qyzpI",
        "outputId": "39d7b234-248b-4029-c6e9-f45cac09609a"
      },
      "outputs": [],
      "source": [
        "# Function to display the Salinity and Temperature variables for the chosen time period\n",
        "print(\"Salinity:\")\n",
        "display_variable_test(start_date, end_date, \"S\")"
      ]
    },
    {
      "cell_type": "code",
      "execution_count": null,
      "metadata": {},
      "outputs": [],
      "source": [
        "print(\"Temperature:\")\n",
        "display_variable_test(start_date, end_date, \"T\")"
      ]
    },
    {
      "cell_type": "markdown",
      "metadata": {
        "id": "Y397hwGyyzpI"
      },
      "source": [
        "#### Display the exposure"
      ]
    },
    {
      "cell_type": "code",
      "execution_count": null,
      "metadata": {
        "colab": {
          "base_uri": "https://localhost:8080/",
          "height": 517
        },
        "id": "2Rp556lNyzpJ",
        "outputId": "9387ab1f-309d-45c1-c741-9d901200e8aa"
      },
      "outputs": [],
      "source": [
        "# Function to display the exposure variable for the chosen time period\n",
        "display_exposure_test(start_date, end_date)"
      ]
    }
  ],
  "metadata": {
    "colab": {
      "provenance": []
    },
    "kernelspec": {
      "display_name": "env_dws",
      "language": "python",
      "name": "python3"
    },
    "language_info": {
      "codemirror_mode": {
        "name": "ipython",
        "version": 3
      },
      "file_extension": ".py",
      "mimetype": "text/x-python",
      "name": "python",
      "nbconvert_exporter": "python",
      "pygments_lexer": "ipython3",
      "version": "3.12.8"
    }
  },
  "nbformat": 4,
  "nbformat_minor": 0
}
